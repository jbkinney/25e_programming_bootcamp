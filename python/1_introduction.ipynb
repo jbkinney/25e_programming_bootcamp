{
 "cells": [
  {
   "cell_type": "markdown",
   "metadata": {},
   "source": [
    "# Notebook 1: Introduction"
   ]
  },
  {
   "cell_type": "markdown",
   "metadata": {},
   "source": [
    "## Welcome to Python"
   ]
  },
  {
   "cell_type": "markdown",
   "metadata": {},
   "source": [
    "In this course we will focus on the Python programming language. There are a number of reasons for this:\n",
    "\n",
    "**Python is one of the easiest languages to learn, to write, and to read.** More than almost any other programming language,  Python code looks like pseudocode. Many aspects of the language help to enforce clarity. There is also a set of convensions, called the [PEP 8 Style Guide](https://www.python.org/dev/peps/pep-0008/), that most programmers have adopted to make their code as clear as possible.\n",
    "\n",
    "**Python allows you to create new code fast**. It is designed to allow you to write programs as quickly and as painlessly as possible. One feature of Python that enables rapid prototyping is that it is an \"interpreted\" language: each line is executed by the Python interpreter one after the next. This is different than C, C++, or Java, which require that programs first be \"compiled\", i.e. translated in their entirety from code to byte code before they are run. \n",
    "\n",
    "**Python is very flexible.** With Python you can do image analysis, sequence analysis, exploratory data analysis, and create publication-quality figures. You can write small analysis scripts or write major software applications. You can use Python at the command line, within a Jupyter notebook (such as this), or within an interactive programming environment. My lab programs almost exclusively in Python in our day-to-day work. \n",
    "\n",
    "**Python is well-supported.** There is an enormous user base for Python. This means that a simlpe Google search, or ChatGTP query, can usually answer any Python programming question you have. There are also a large number of mature 3rd party packages for a wide variety of tasks including image analysis, numerical computation, machine learning, statistics, and graphics. \n",
    "\n",
    "**Python skills are highly valued.** There is great demand for people who know Python, and that demand is rapidly increasing. This is true in both academic research and in industry. In particular, Python has become the de facto language of deep learning. "
   ]
  },
  {
   "cell_type": "markdown",
   "metadata": {},
   "source": [
    "The official python documentation page is https://www.python.org/. Lots of good documentation and tutorials can be found here. Another great resource for programmers is Stack Overflow at http://stackoverflow.com/. Google is also a great resource. Just google a question you have and the answer will likely be found in the first or second hit. \n",
    "\n",
    "But by far the best Python resources for beginners are large langauge models (LLMs) like ChatGPT or Claude, which can write remarkably good code with just a text prompt."
   ]
  },
  {
   "cell_type": "markdown",
   "metadata": {},
   "source": [
    "Note: The R language is also very popular in biology and statistics, and has a larger set of tools written for biological data analysis than does Python. We will not cover this language here, but once you learn Python it should be relatively easy to learn R. There is also a substantial amount of online material to help anyone interested in learning R (as well as Python). "
   ]
  },
  {
   "cell_type": "markdown",
   "metadata": {},
   "source": [
    "## Jupyter notebooks"
   ]
  },
  {
   "cell_type": "markdown",
   "metadata": {},
   "source": [
    "This is a **Jupyter notebook**. You can learn more about these on the Jupyter project website, http://jupyter.org/. Jupyter notebooks provide a convenient interface to Python. They allow you to include fully functional Python code inside of a document that also contains markdown (i.e. text like this) and figures that show analysis results. This type of hybrid document provides a powerful method of interactive data anlysis. I encourage taking advantage of this. In fact I use Jupyter notebooks for most of my data analysis tasks. Only when I start writing production code do I switch over to more standard Python scripts. "
   ]
  },
  {
   "cell_type": "markdown",
   "metadata": {},
   "source": [
    "You can start a Jupyter notebook by typing this at the command line (indicated by the $ sign) an pressing enter:\n",
    "\n",
    "```\n",
    "$ jupyter notebook\n",
    "```\n",
    "\n"
   ]
  },
  {
   "cell_type": "markdown",
   "metadata": {},
   "source": [
    "## Markdown cells"
   ]
  },
  {
   "cell_type": "markdown",
   "metadata": {},
   "source": [
    "To create a markdown cell, Click the '+' button in the menue above. Then choose 'Markdown' from the drop-down menu."
   ]
  },
  {
   "cell_type": "markdown",
   "metadata": {},
   "source": [
    "Markdown is a simple yet powerful way of creating stylized text. For example, you can embed LaTeX code to create an equation:\n",
    "\n",
    "$$\\sin x =  \\sum_{n=0}^\\infty \\frac{(-1)^n x^{2n+1}}{(2n+1)!}$$\n",
    "\n",
    "You can add HTML, e.g. to embed images:\n",
    "\n",
    "<img src=\"cshl.jpg\" alt=\"Drawing\"  />\n",
    "\n",
    "Here is a [Markdown Cheat Sheet](https://github.com/adam-p/markdown-here/wiki/Markdown-Here-Cheatsheet) for reference."
   ]
  },
  {
   "cell_type": "markdown",
   "metadata": {},
   "source": [
    "## Code cells"
   ]
  },
  {
   "cell_type": "markdown",
   "metadata": {},
   "source": [
    "Code cells contain snippets of Python code that you can execute by pressing Shift+Enter. Here is a code cell illustrating this with a simple Hellow World program:"
   ]
  },
  {
   "cell_type": "code",
   "execution_count": null,
   "metadata": {
    "ExecuteTime": {
     "end_time": "2023-09-05T15:59:56.588105Z",
     "start_time": "2023-09-05T15:59:56.583268Z"
    }
   },
   "outputs": [],
   "source": [
    "print(\"Hello World!\") #The Hello World program!"
   ]
  },
  {
   "cell_type": "markdown",
   "metadata": {},
   "source": [
    "All but the most trivial uses of python usually require packages that must be imported. Some of the most common packages are `numpy`, `pandas`, and `matplotlib`. To import these, and to assign these packages useful aliases, execute the code below. Although it is not required, [PEP 8 recommends](https://www.python.org/dev/peps/pep-0008/#imports) that you do all package imports at the top of each Python document."
   ]
  },
  {
   "cell_type": "code",
   "execution_count": null,
   "metadata": {
    "ExecuteTime": {
     "end_time": "2023-09-05T15:59:57.863250Z",
     "start_time": "2023-09-05T15:59:57.414699Z"
    }
   },
   "outputs": [],
   "source": [
    "# First code cell\n",
    "import numpy as np               # numpy is the standard numerical computing package\n",
    "import pandas as pd              # pandas is the standard package for working with dataframes\n",
    "import matplotlib.pyplot as plt  # matplotlib is the standard plotting package"
   ]
  },
  {
   "cell_type": "markdown",
   "metadata": {},
   "source": [
    "Inline plotting is, I would argue, one of the most important features of Jupyter notebooks. It allows you to see Python code AND the graphical output of that code in the same place. For example,"
   ]
  },
  {
   "cell_type": "code",
   "execution_count": null,
   "metadata": {
    "ExecuteTime": {
     "end_time": "2023-09-05T16:00:00.107052Z",
     "start_time": "2023-09-05T16:00:00.016972Z"
    }
   },
   "outputs": [],
   "source": [
    "x = np.arange(-10,10,0.01)   # Creates an array of numbers from -10 to 10, with step size 0.01\n",
    "y = np.sin(x)                # Computes the sign of these numbers\n",
    "plt.plot(x,y)                # Plots y vs. x"
   ]
  },
  {
   "cell_type": "markdown",
   "metadata": {},
   "source": [
    "## Accessing the command line"
   ]
  },
  {
   "cell_type": "markdown",
   "metadata": {},
   "source": [
    "Warning: the commands in this section will only work in a POSIX operating systems such as Mac OS X, Linux, and Unix. They will not work in Windows. Here is a UNIX command line cheet sheet: http://web.cs.ucla.edu/~miryung/teaching/EE461L-Spring2012/labs/posix.html"
   ]
  },
  {
   "cell_type": "code",
   "execution_count": null,
   "metadata": {
    "ExecuteTime": {
     "end_time": "2023-09-05T16:00:01.777150Z",
     "start_time": "2023-09-05T16:00:01.633700Z"
    }
   },
   "outputs": [],
   "source": [
    "# List the files in the current directory\n",
    "!ls -lah"
   ]
  },
  {
   "cell_type": "code",
   "execution_count": null,
   "metadata": {
    "ExecuteTime": {
     "end_time": "2023-09-05T16:00:02.412733Z",
     "start_time": "2023-09-05T16:00:02.280289Z"
    }
   },
   "outputs": [],
   "source": [
    "# Display the contents of a file \n",
    "!cat hello_world.py"
   ]
  },
  {
   "cell_type": "code",
   "execution_count": null,
   "metadata": {
    "ExecuteTime": {
     "end_time": "2023-09-05T16:00:03.118009Z",
     "start_time": "2023-09-05T16:00:02.955631Z"
    }
   },
   "outputs": [],
   "source": [
    "# Run a Python script\n",
    "!python hello_world.py"
   ]
  },
  {
   "cell_type": "code",
   "execution_count": 1,
   "metadata": {
    "ExecuteTime": {
     "end_time": "2023-09-05T16:00:04.626785Z",
     "start_time": "2023-09-05T16:00:03.577237Z"
    }
   },
   "outputs": [
    {
     "name": "stdout",
     "output_type": "stream",
     "text": [
      "  % Total    % Received % Xferd  Average Speed   Time    Time     Time  Current\n",
      "                                 Dload  Upload   Total   Spent    Left  Speed\n",
      "100  962k  100  962k    0     0  1861k      0 --:--:-- --:--:-- --:--:-- 1865k\n",
      "total 74064\n",
      "drwxr-xr-x@ 27 jkinney  staff   864B Sep  3 08:21 \u001b[1m\u001b[34m.\u001b[m\u001b[m\n",
      "drwxr-xr-x  11 jkinney  staff   352B Sep  3 07:09 \u001b[1m\u001b[34m..\u001b[m\u001b[m\n",
      "-rwxr-xr-x@  1 jkinney  staff   6.0K Sep  3 05:54 \u001b[1m\u001b[32m.DS_Store\u001b[m\u001b[m\n",
      "drwxr-xr-x  10 jkinney  staff   320B Sep  3 05:54 \u001b[1m\u001b[34m.ipynb_checkpoints\u001b[m\u001b[m\n",
      "-rw-r--r--   1 jkinney  staff    13K Sep  3 08:16 1_introduction.ipynb\n",
      "-rw-r--r--   1 jkinney  staff    22K Sep  3 08:18 2_datatypes.ipynb\n",
      "-rw-r--r--   1 jkinney  staff    21K Sep  3 08:19 3_flowcontrol.ipynb\n",
      "-rw-r--r--   1 jkinney  staff    16K Sep  3 08:21 4_tfanalysis.ipynb\n",
      "-rw-------@  1 jkinney  staff    18K Sep  3 05:54 5_dnareplication.ipynb\n",
      "-rw-r--r--@  1 jkinney  staff    36K Sep  3 05:54 5_dnareplication_1.png\n",
      "-rw-r--r--@  1 jkinney  staff    79K Sep  3 05:54 5_dnareplication_2.png\n",
      "-rw-r--r--   1 jkinney  staff    12K Sep  3 05:54 6_matplotlib.ipynb\n",
      "-rw-r--r--@  1 jkinney  staff    12K Sep  3 05:54 6_matplotlib_1.pdf\n",
      "-rw-r--r--@  1 jkinney  staff    16K Sep  3 05:54 6_matplotlib_2.pdf\n",
      "-rw-r--r--@  1 jkinney  staff    18K Sep  3 05:54 6_matplotlib_3.pdf\n",
      "-rw-r--r--   1 jkinney  staff    17K Sep  3 05:54 6_matplotlib_4.pdf\n",
      "-rw-r--r--   1 jkinney  staff   9.3K Sep  3 05:54 7_seaborn.ipynb\n",
      "-rw-r--r--@  1 jkinney  staff    47K Sep  3 05:54 7_seaborn_1.png\n",
      "-rw-------@  1 jkinney  staff   8.7M Sep  3 05:54 A1.pileup.bed\n",
      "-rw-------@  1 jkinney  staff   8.7M Sep  3 05:54 B1.pileup.bed\n",
      "-rw-r--r--   1 jkinney  staff   963K Sep  3 08:22 BindingSiteSet.txt\n",
      "-rw-------@  1 jkinney  staff   8.7M Sep  3 05:54 C1.pileup.bed\n",
      "-rw-------   1 jkinney  staff   8.7M Sep  3 05:54 D1.pileup.bed\n",
      "-rw-r--r--   1 jkinney  staff    28K Sep  3 05:54 crp_information_logo.png\n",
      "-rw-r--r--@  1 jkinney  staff   107K Sep  3 05:54 cshl.jpg\n",
      "-rw-r--r--   1 jkinney  staff    70K Sep  3 05:54 exercise_answers.ipynb\n",
      "-rwxr-xr-x@  1 jkinney  staff    50B Sep  3 05:54 \u001b[1m\u001b[32mhello_world.py\u001b[m\u001b[m\n"
     ]
    }
   ],
   "source": [
    "# Download a file (all annotated TF binding sites in E. coli)\n",
    "!curl \"https://raw.githubusercontent.com/jbkinney/24e_qbbootcamp/main/python/BindingSiteSet.txt\" -o BindingSiteSet.txt\n",
    "\n",
    "# List files in directory    \n",
    "!ls -lah "
   ]
  },
  {
   "cell_type": "markdown",
   "metadata": {},
   "source": [
    "You can even install Python packages from within a Python notebook! To do this, use the `pip` command, which installs packages from [PyPI](https://pypi.org/). For example, the command below installs [`logomaker`](https://logomaker.readthedocs.io/en/latest/), a Python package that my lab recently developed. "
   ]
  },
  {
   "cell_type": "code",
   "execution_count": null,
   "metadata": {
    "ExecuteTime": {
     "end_time": "2023-09-05T16:00:08.015958Z",
     "start_time": "2023-09-05T16:00:05.687266Z"
    }
   },
   "outputs": [],
   "source": [
    "# Install a 3rd party Python packge\n",
    "!pip install logomaker"
   ]
  },
  {
   "cell_type": "markdown",
   "metadata": {},
   "source": [
    "## Exercises"
   ]
  },
  {
   "cell_type": "markdown",
   "metadata": {},
   "source": [
    "This course will include a variety of exercises to increase your Python skills. Note that the knowledge needed to complete each exercise will *not* necessarily have been presented or discussed. If you find yourself at sea, **the first thing you should do is Google your question, or ask a LLM.** This is how 99% of programming is done."
   ]
  },
  {
   "cell_type": "markdown",
   "metadata": {},
   "source": [
    "**E1.1**: Create a markdown cell containing a bulleted list, a numbred list, and a table."
   ]
  },
  {
   "cell_type": "code",
   "execution_count": null,
   "metadata": {
    "ExecuteTime": {
     "end_time": "2022-08-29T12:42:16.281641Z",
     "start_time": "2022-08-29T12:42:16.279415Z"
    }
   },
   "outputs": [],
   "source": [
    "# Write answer here"
   ]
  },
  {
   "cell_type": "markdown",
   "metadata": {},
   "source": [
    "**E1.2**: Plot $y = x^2$ and $y = e^x$ on the same plot, with $x$ ranging from -3 to 3."
   ]
  },
  {
   "cell_type": "code",
   "execution_count": null,
   "metadata": {
    "ExecuteTime": {
     "end_time": "2022-08-29T12:42:16.284650Z",
     "start_time": "2022-08-29T12:42:16.283008Z"
    }
   },
   "outputs": [],
   "source": [
    "# Write answer here"
   ]
  },
  {
   "cell_type": "markdown",
   "metadata": {},
   "source": [
    "**E1.3**: Using the command line, print the first 100 lines of the file `BindingSiteSet.txt`."
   ]
  },
  {
   "cell_type": "code",
   "execution_count": null,
   "metadata": {
    "ExecuteTime": {
     "end_time": "2022-08-29T12:42:16.286925Z",
     "start_time": "2022-08-29T12:42:16.285586Z"
    }
   },
   "outputs": [],
   "source": [
    "# Write answer here"
   ]
  },
  {
   "cell_type": "code",
   "execution_count": null,
   "metadata": {},
   "outputs": [],
   "source": []
  }
 ],
 "metadata": {
  "kernelspec": {
   "display_name": "base",
   "language": "python",
   "name": "base"
  },
  "language_info": {
   "codemirror_mode": {
    "name": "ipython",
    "version": 3
   },
   "file_extension": ".py",
   "mimetype": "text/x-python",
   "name": "python",
   "nbconvert_exporter": "python",
   "pygments_lexer": "ipython3",
   "version": "3.11.8"
  },
  "varInspector": {
   "cols": {
    "lenName": 16,
    "lenType": 16,
    "lenVar": 40
   },
   "kernels_config": {
    "python": {
     "delete_cmd_postfix": "",
     "delete_cmd_prefix": "del ",
     "library": "var_list.py",
     "varRefreshCmd": "print(var_dic_list())"
    },
    "r": {
     "delete_cmd_postfix": ") ",
     "delete_cmd_prefix": "rm(",
     "library": "var_list.r",
     "varRefreshCmd": "cat(var_dic_list()) "
    }
   },
   "types_to_exclude": [
    "module",
    "function",
    "builtin_function_or_method",
    "instance",
    "_Feature"
   ],
   "window_display": false
  }
 },
 "nbformat": 4,
 "nbformat_minor": 4
}
